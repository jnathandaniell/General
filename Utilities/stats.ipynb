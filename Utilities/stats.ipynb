{
 "cells": [
  {
   "cell_type": "code",
   "execution_count": 5,
   "metadata": {},
   "outputs": [],
   "source": [
    "import math\n",
    "\n",
    "def get_ex(pdf, domain):\n",
    "    return sum([x * pdf(x) for x in domain])\n",
    "\n",
    "def get_var(pdf, mu, domain):\n",
    "    sq_diff = [math.pow((x - mu), 2) for x in domain]\n",
    "    return get_ex(pdf, sq_diff)\n",
    "\n",
    "def get_var_rand(pdf, mu, domain):\n",
    "    dom_2 = [math.pow(x, 2) for x in domain]\n",
    "    ex_2 = get_ex(pdf, dom_2)\n",
    "    return ex_2 - math.pow(mu, 2)"
   ]
  },
  {
   "cell_type": "markdown",
   "metadata": {},
   "source": [
    "## 2.23"
   ]
  },
  {
   "cell_type": "code",
   "execution_count": 4,
   "metadata": {},
   "outputs": [],
   "source": [
    "pdf = lambda x: x/8\n",
    "domain = [1, 2, 5]\n",
    "mu = get_ex(pdf, domain)\n",
    "var = get_var(pdf, mu, domain)"
   ]
  },
  {
   "cell_type": "markdown",
   "metadata": {},
   "source": [
    "## 2.24"
   ]
  },
  {
   "cell_type": "code",
   "execution_count": 19,
   "metadata": {},
   "outputs": [],
   "source": [
    "pdf = lambda x: 3 * math.pow(x, 2)\n",
    "domain = [0.01 * x for x in range(1, 99)]\n",
    "mu = get_ex(pdf, domain)\n",
    "var = get_var(pdf, mu, domain)"
   ]
  }
 ],
 "metadata": {
  "kernelspec": {
   "display_name": "general",
   "language": "python",
   "name": "python3"
  },
  "language_info": {
   "codemirror_mode": {
    "name": "ipython",
    "version": 3
   },
   "file_extension": ".py",
   "mimetype": "text/x-python",
   "name": "python",
   "nbconvert_exporter": "python",
   "pygments_lexer": "ipython3",
   "version": "3.10.13"
  }
 },
 "nbformat": 4,
 "nbformat_minor": 2
}
