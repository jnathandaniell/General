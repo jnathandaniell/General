{
 "cells": [
  {
   "cell_type": "code",
   "execution_count": 1,
   "metadata": {},
   "outputs": [],
   "source": [
    "import utilities.stats as stats"
   ]
  },
  {
   "cell_type": "code",
   "execution_count": 2,
   "metadata": {},
   "outputs": [
    {
     "data": {
      "text/plain": [
       "'1.71E+07'"
      ]
     },
     "execution_count": 2,
     "metadata": {},
     "output_type": "execute_result"
    }
   ],
   "source": [
    "f\"{stats.get_perumutations(30, 5):.2E}\""
   ]
  },
  {
   "cell_type": "code",
   "execution_count": 3,
   "metadata": {},
   "outputs": [
    {
     "name": "stdout",
     "output_type": "stream",
     "text": [
      "4.08E+03\n",
      "1.56E+02\n",
      "6.36E+05\n"
     ]
    }
   ],
   "source": [
    "print(f\"{stats.get_perumutations(17, 3):.2E}\")\n",
    "print(f\"{stats.get_perumutations(13, 2):.2E}\")\n",
    "print(f\"{stats.get_perumutations(13, 2)*stats.get_perumutations(17, 3):.2E}\")"
   ]
  },
  {
   "cell_type": "code",
   "execution_count": 4,
   "metadata": {},
   "outputs": [
    {
     "name": "stdout",
     "output_type": "stream",
     "text": [
      "1.00E+00\n",
      "2.40E+02\n",
      "1.56E+02\n",
      "3.74E+04\n"
     ]
    }
   ],
   "source": [
    "print(f\"{stats.get_perumutations(1, 1):.2E}\")\n",
    "print(f\"{stats.get_perumutations(16, 2):.2E}\")\n",
    "print(f\"{stats.get_perumutations(13, 2):.2E}\")\n",
    "print(f\"{stats.get_perumutations(1, 1)*stats.get_perumutations(16, 2)*stats.get_perumutations(13, 2):.2E}\")"
   ]
  },
  {
   "cell_type": "code",
   "execution_count": 5,
   "metadata": {},
   "outputs": [],
   "source": [
    "a = stats.get_perumutations(9, 1)\n",
    "b = stats.get_perumutations(8, 1)\n",
    "c = stats.get_perumutations(7, 1)\n",
    "d = stats.get_perumutations(6, 1)\n",
    "e = stats.get_perumutations(9, 4)"
   ]
  },
  {
   "cell_type": "code",
   "execution_count": 14,
   "metadata": {},
   "outputs": [],
   "source": [
    "a = stats.get_perumutations(5, 1)\n",
    "b = stats.get_perumutations(4, 1)\n",
    "c = stats.get_perumutations(3, 1)\n",
    "d = stats.get_perumutations(2, 1)\n",
    "e = stats.get_perumutations(9, 4)\n",
    "f = stats.get_perumutations(5, 4)"
   ]
  },
  {
   "cell_type": "code",
   "execution_count": 16,
   "metadata": {},
   "outputs": [
    {
     "name": "stdout",
     "output_type": "stream",
     "text": [
      "120\n"
     ]
    }
   ],
   "source": [
    "print(f)"
   ]
  },
  {
   "cell_type": "code",
   "execution_count": 15,
   "metadata": {},
   "outputs": [
    {
     "name": "stdout",
     "output_type": "stream",
     "text": [
      "0.03968253968253968\n"
     ]
    }
   ],
   "source": [
    "print(f/e)"
   ]
  },
  {
   "cell_type": "code",
   "execution_count": 6,
   "metadata": {},
   "outputs": [
    {
     "name": "stdout",
     "output_type": "stream",
     "text": [
      "3024\n"
     ]
    }
   ],
   "source": [
    "print(e)"
   ]
  }
 ],
 "metadata": {
  "kernelspec": {
   "display_name": "base",
   "language": "python",
   "name": "python3"
  },
  "language_info": {
   "codemirror_mode": {
    "name": "ipython",
    "version": 3
   },
   "file_extension": ".py",
   "mimetype": "text/x-python",
   "name": "python",
   "nbconvert_exporter": "python",
   "pygments_lexer": "ipython3",
   "version": "3.11.5"
  }
 },
 "nbformat": 4,
 "nbformat_minor": 2
}
